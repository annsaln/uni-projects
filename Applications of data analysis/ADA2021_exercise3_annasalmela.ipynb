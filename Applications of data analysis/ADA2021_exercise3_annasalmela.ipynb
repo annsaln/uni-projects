{
 "cells": [
  {
   "cell_type": "markdown",
   "metadata": {},
   "source": [
    "# Exercise 3 | TKO_2096 Applications of Data Analysis 2021\n"
   ]
  },
  {
   "cell_type": "markdown",
   "metadata": {},
   "source": [
    "## Water permeability prediction in forestry <br>\n",
    "\n",
    "In this task, the client wants you to estimate the spatial prediction performance of K-nearest neighbor regression model with K=7 (7NN), using spatial leave-one-out cross-validation (i.e. SKCV, with number of folds == number of data points). The client wants you to use the C-index as the performance measure.  \n",
    "\n",
    "In other words, the client wants you to answer the question: \"What happens to the prediction performance of water permeability using 7-nearest neighbor regression model, when the geographical distance between known data and unknown data increases?\".\n",
    "\n",
    "In this task, you have three data files available (with 1691 data points): \n",
    "\n",
    "- input.csv, contains the 75 predictor features. \n",
    "- output.csv, contains the water permebility values. \n",
    "- coordinates.csv, contains the corresponding geographical coordinate locations of the data points. The unit of the coordinates is metre, and you can use Euclidean distance to calculate distances between the coordinate points. \n",
    "\n",
    "Implement the following tasks to complete this exercise:\n",
    "\n",
    "********************************************\n",
    "\n",
    "#### 1. Z-score standardize the predictor features (input.csv). \n",
    "\n",
    "#### 2. Perform spatial leave-one-out cross-validation with 7NN model for the provided data set (refer to the lectures 3.1.3 and 3.1.4 for help). Estimate the water permeability prediction performance (using 7NN model and C-index) with the following distance parameter values: d = 0, 10, 20, ..., 200 (that is, 10 meter intervals from 0m to 200m). \n",
    "\n",
    "#### 3. When you have calculated the C-index performance measure for each value of d, visualize the results with the C-index (y-axis) as a function of d (x-axis).\n",
    "\n",
    "********************************************\n",
    "\n",
    "Your .ipynb-file must include the following: \n",
    "\n",
    "- Your own implementation of the spatial leave-one-out cross-validation for the current task. Remember to also take advantage of earlier exercises (e.g. C-index). For the 7-nearest neighbor and Euclidean distance calculation you can use third-party libraries (e.g. Scikit-learn) if you want.  \n",
    "\n",
    "\n",
    "- Plot of the graph C-index vs. distance parameter value. \n",
    "\n",
    "\n",
    "<br><br><br>\n",
    "-- START IMPLEMENTING YOUR EXERCISE AFTER THIS LINE --\n",
    "<br><br><br>"
   ]
  },
  {
   "cell_type": "markdown",
   "metadata": {},
   "source": [
    "### Import necessary libraries"
   ]
  },
  {
   "cell_type": "code",
   "execution_count": 2,
   "metadata": {},
   "outputs": [],
   "source": [
    "# In this cell, import all the libraries that you need. For example: \n",
    "import numpy as np\n",
    "import pandas as pd\n",
    "from sklearn.neighbors import KNeighborsRegressor\n",
    "from sklearn.neighbors import DistanceMetric\n",
    "from scipy.stats import zscore\n",
    "from scipy.spatial import distance\n",
    "import matplotlib.pyplot as plt\n",
    "%matplotlib inline"
   ]
  },
  {
   "cell_type": "markdown",
   "metadata": {},
   "source": [
    "### Read in the datasets"
   ]
  },
  {
   "cell_type": "code",
   "execution_count": 3,
   "metadata": {},
   "outputs": [
    {
     "name": "stdout",
     "output_type": "stream",
     "text": [
      "Input shape (1691, 75)\n",
      "Output shape (1691,)\n",
      "Coordinates shape (1691, 2)\n"
     ]
    }
   ],
   "source": [
    "# In this cell, read the files input.csv, output.csv and coordinates.csv.\n",
    "# Print out the dataset dimesions (i.e. number of rows and columns).\n",
    "#\n",
    "# Note that the coordinates are in EUREF-TM35FIN format, so you \n",
    "# can use the Euclidean distance to calculate the distance between two coordinate points. \n",
    "\n",
    "inp = np.loadtxt('input.csv', delimiter=',')\n",
    "print('Input shape', inp.shape)\n",
    "\n",
    "output = np.loadtxt('output.csv', delimiter=',')\n",
    "print('Output shape', output.shape) # NB: output is one-dimensional\n",
    "coordinates = np.loadtxt('coordinates.csv', delimiter=',')\n",
    "print('Coordinates shape', coordinates.shape)"
   ]
  },
  {
   "cell_type": "markdown",
   "metadata": {},
   "source": [
    "### Standardization of the predictor features (input.csv)"
   ]
  },
  {
   "cell_type": "code",
   "execution_count": 4,
   "metadata": {},
   "outputs": [],
   "source": [
    "# Standardize the predictor features (input.csv) by removing the mean and scaling to unit variance. \n",
    "# In other words, z-score the predictor features. You are allowed to use third-party libraries for doing this. \n",
    "inp_std = zscore(inp, axis=0)"
   ]
  },
  {
   "cell_type": "markdown",
   "metadata": {},
   "source": [
    "### Functions"
   ]
  },
  {
   "cell_type": "code",
   "execution_count": 10,
   "metadata": {},
   "outputs": [],
   "source": [
    "# Include here all the functions (for example the C-index-function) that you need in order to implement the task.\n",
    "def cindex(true_labels, pred_labels):\n",
    "    \"\"\"Returns C-index between true labels and predicted labels\n",
    "    \"\"\"  \n",
    "    n = 0\n",
    "    pairs = 0\n",
    "    for i in range(len(pred_labels)):\n",
    "        for j in range(i+1,len(pred_labels)): # start from i+1 to exclude already visited values\n",
    "            if true_labels[i] != true_labels[j]: # if pairs are comparable (not equal), add to pairs\n",
    "                pairs += 1\n",
    "            if (pred_labels[i] < pred_labels[j] and true_labels[i] < true_labels[j]) or (pred_labels[i] > pred_labels[j] and true_labels[i] > true_labels[j]):\n",
    "                n = n+1\n",
    "            if pred_labels[i] == pred_labels[j]:\n",
    "                n = n+0.5\n",
    "    cindx = n / pairs\n",
    "    return cindx\n",
    "\n",
    "def loo(X, y, coord): # leave-one-out CV function\n",
    "    ds = np.arange(0,201,10) # a list of distances to be tested\n",
    "    cindx = []\n",
    "    dist = distance.cdist(coord, coord, metric='euclidean') # calculate a distance from the data points to the rest\n",
    "    for d in ds:\n",
    "        true = []\n",
    "        preds = []\n",
    "        for i in range(len(X)):\n",
    "            X_test = X[i].reshape(1, -1) # take the ith sample as a test set\n",
    "            # include only data points that are further than d from the test point\n",
    "            # in other words : test the ith row in the distance matrix and use those indexes as a filter\n",
    "            # note: when d = 0, train set is basically all other points except for the test point\n",
    "            X_train = X[dist[i] > d]\n",
    "            y_test = y[i].reshape(1, -1)\n",
    "            y_train = y[dist[i] > d]\n",
    "            knn = KNeighborsRegressor(n_neighbors=7, metric='euclidean')\n",
    "            knn.fit(X_train, y_train)\n",
    "            pred = knn.predict(X_test)\n",
    "            preds.extend(pred)\n",
    "            true.extend(y_test)\n",
    "        preds = np.array(preds)\n",
    "        true = np.array(true)\n",
    "        cindx.append(cindex(true, preds))\n",
    "    plt.plot(ds,cindx) # plot a \"learning curve\"\n",
    "    plt.xlabel('Distance')\n",
    "    plt.ylabel('C-index')\n",
    "    plt.show()"
   ]
  },
  {
   "cell_type": "markdown",
   "metadata": {},
   "source": [
    "### Results for spatial leave-one-out cross-validation with 7-nearest neighbor regression model"
   ]
  },
  {
   "cell_type": "code",
   "execution_count": 11,
   "metadata": {},
   "outputs": [
    {
     "data": {
      "image/png": "[encoded data removed]",
      "text/plain": [
       "<Figure size 432x288 with 1 Axes>"
      ]
     },
     "metadata": {
      "needs_background": "light"
     },
     "output_type": "display_data"
    }
   ],
   "source": [
    "# In this cell, run your script for the Spatial leave-One-Out cross-validation \n",
    "# with 7-nearest neighbor regression model and visualize the results as \n",
    "# requested in the task assignment.\n",
    "\n",
    "loo(inp_std, output, coordinates)"
   ]
  },
  {
   "cell_type": "markdown",
   "metadata": {},
   "source": [
    "### Interpretation of the results"
   ]
  },
  {
   "cell_type": "markdown",
   "metadata": {},
   "source": [
    "#### In this cell, give a brief commentary on the results, what happens to the prediction performance as the prediction distance increases?\n",
    "\n",
    "The highest c-index values seem to be somewhere between 0.68 and 0.72 (the scale being up to 1.0, this is a nice result IMO). The performance decreases the further we go from the test point. There's a significant drop at performance at 100m distance, which implies that the model isn't reliable when predicting data points that are further than 100m from the training set."
   ]
  }
 ],
 "metadata": {
  "kernelspec": {
   "display_name": "Python 3",
   "language": "python",
   "name": "python3"
  },
  "language_info": {
   "codemirror_mode": {
    "name": "ipython",
    "version": 3
   },
   "file_extension": ".py",
   "mimetype": "text/x-python",
   "name": "python",
   "nbconvert_exporter": "python",
   "pygments_lexer": "ipython3",
   "version": "3.8.5"
  },
  "toc": {
   "base_numbering": 1,
   "nav_menu": {},
   "number_sections": false,
   "sideBar": true,
   "skip_h1_title": false,
   "title_cell": "Table of Contents",
   "title_sidebar": "Contents",
   "toc_cell": false,
   "toc_position": {},
   "toc_section_display": true,
   "toc_window_display": true
  },
  "varInspector": {
   "cols": {
    "lenName": 16,
    "lenType": 16,
    "lenVar": 40
   },
   "kernels_config": {
    "python": {
     "delete_cmd_postfix": "",
     "delete_cmd_prefix": "del ",
     "library": "var_list.py",
     "varRefreshCmd": "print(var_dic_list())"
    },
    "r": {
     "delete_cmd_postfix": ") ",
     "delete_cmd_prefix": "rm(",
     "library": "var_list.r",
     "varRefreshCmd": "cat(var_dic_list()) "
    }
   },
   "types_to_exclude": [
    "module",
    "function",
    "builtin_function_or_method",
    "instance",
    "_Feature"
   ],
   "window_display": false
  }
 },
 "nbformat": 4,
 "nbformat_minor": 2
}
